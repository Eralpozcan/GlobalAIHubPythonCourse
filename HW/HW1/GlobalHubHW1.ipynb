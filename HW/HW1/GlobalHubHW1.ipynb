{
 "cells": [
  {
   "cell_type": "markdown",
   "metadata": {},
   "source": [
    "Create a program will compute the tax and the tip for a meal ordered at a restaurant. You can compute the tax as 8 percent of the meal amount and the tip as 10 percent of the meal amount (without the tax). The output from your program should include the tax amount, the tip amount, and the grand total for the meal including both the tax and the tip.\n",
    "\n",
    "a)Define the cost of the meal in the beginning of your program.\n",
    "\n",
    "Some several example program runs:\n",
    "\n",
    "Cost of the meal is 25 Eur.\n",
    "\n",
    "Sample Run: The tax is 2.00 Eur and the tip is 2.50 Eur, making the total 29.50 Eur.\n",
    "\n",
    "Cost of the meal is 68 Eur.\n",
    "\n",
    "Sample Run: The tax is 5.44 Eur and the tip is 6.80000000000001 Eur, making the total 80.24 Eur.\n",
    "\n",
    "b)Input the cost of the meal from the user.\n",
    "\n",
    "Some several example program runs:\n",
    "\n",
    "Please enter the cost of your meal: 100\n",
    "\n",
    "Sample Run: The tax is 8.00 Eur and the tip is 10.00 Eur, making the total 118.00 Eur.\n",
    "\n",
    "Please enter the cost of your meal: 68\n",
    "\n",
    "Sample Run: The tax is 5.44 Eur and the tip is 6.80 Eur, making the total 80.24 Eur.\n",
    "\n",
    "**QUESTİON**"
   ]
  },
  {
   "cell_type": "code",
   "execution_count": null,
   "metadata": {},
   "outputs": [],
   "source": [
    "mealprice =int(input(\"Yemek ücretini giriniz:\"))\n",
    "\n",
    "\n",
    "taxrate = 8\n",
    "tipsrate = 10"
   ]
  },
  {
   "cell_type": "code",
   "execution_count": null,
   "metadata": {},
   "outputs": [],
   "source": [
    "def tax(mealprice):\n",
    "    return mealprice * taxrate/100\n",
    "def tips(mealprice):\n",
    "    return mealprice * (tipsrate/100)\n",
    "\n",
    "def calculator(mealprice,tax,tips):\n",
    "\n",
    "    return mealprice + tax + tips"
   ]
  },
  {
   "cell_type": "code",
   "execution_count": null,
   "metadata": {},
   "outputs": [],
   "source": [
    "tax = tax(mealprice)\n",
    "tips = tips(mealprice)\n",
    "result = calculator(mealprice,tax,tips)\n"
   ]
  },
  {
   "cell_type": "code",
   "execution_count": null,
   "metadata": {},
   "outputs": [],
   "source": [
    "print(result)"
   ]
  },
  {
   "cell_type": "code",
   "execution_count": null,
   "metadata": {},
   "outputs": [],
   "source": [
    "print(\"Vergi tutarı :\"+format(tax)+\"$ ,bahşiş tutarınız :\"+format(tips)+\" $ toplam yemek ücretiniz:\"+format(result)+\"$\")"
   ]
  },
  {
   "cell_type": "markdown",
   "metadata": {},
   "source": [
    "**HOMEWORK SOLVE HW1**"
   ]
  },
  {
   "cell_type": "code",
   "execution_count": null,
   "metadata": {},
   "outputs": [],
   "source": [
    "import random as rnd\n",
    "\n",
    "\n",
    "def new_list(boyut):\n",
    "    \n",
    "    list =[]\n",
    "    for i in range(boyut):\n",
    "        list.append(rnd.randint(2, 100)\n",
    "    return list\n",
    "\n",
    "\n",
    "def build_3d(r,c):\n",
    "    \n",
    "    3dimes=[]\n",
    "    for i in range(r):\n",
    "        3dimes.append(new_list(c))\n",
    "    return 3dimes\n",
    "\n",
    "\n",
    "my3dmatrix = build_3d(3, 3)\n",
    "\n",
    "print(my3dmatrix)"
   ]
  },
  {
   "cell_type": "markdown",
   "metadata": {},
   "source": [
    "Not completed"
   ]
  }
 ],
 "metadata": {
  "kernelspec": {
   "display_name": "Python 3",
   "language": "python",
   "name": "python3"
  },
  "language_info": {
   "codemirror_mode": {
    "name": "ipython",
    "version": 3
   },
   "file_extension": ".py",
   "mimetype": "text/x-python",
   "name": "python",
   "nbconvert_exporter": "python",
   "pygments_lexer": "ipython3",
   "version": "3.7.6"
  }
 },
 "nbformat": 4,
 "nbformat_minor": 4
}
